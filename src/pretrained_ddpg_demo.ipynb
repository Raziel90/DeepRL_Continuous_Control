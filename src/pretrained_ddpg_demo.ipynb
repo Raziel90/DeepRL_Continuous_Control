{
 "cells": [
  {
   "cell_type": "code",
   "execution_count": 1,
   "metadata": {},
   "outputs": [],
   "source": [
    "import torch\n",
    "import torch.nn as nn\n",
    "import torch.nn.functional as F\n",
    "from unityagents import UnityEnvironment\n",
    "from model.ddpg import DDPGAgent"
   ]
  },
  {
   "cell_type": "code",
   "execution_count": 2,
   "metadata": {},
   "outputs": [
    {
     "name": "stderr",
     "output_type": "stream",
     "text": [
      "INFO:unityagents:\n",
      "'Academy' started successfully!\n",
      "Unity Academy name: Academy\n",
      "        Number of Brains: 1\n",
      "        Number of External Brains : 1\n",
      "        Lesson number : 0\n",
      "        Reset Parameters :\n",
      "\t\tgoal_speed -> 1.0\n",
      "\t\tgoal_size -> 5.0\n",
      "Unity brain name: ReacherBrain\n",
      "        Number of Visual Observations (per agent): 0\n",
      "        Vector Observation space type: continuous\n",
      "        Vector Observation space size (per agent): 33\n",
      "        Number of stacked Vector Observation: 1\n",
      "        Vector Action space type: continuous\n",
      "        Vector Action space size (per agent): 4\n",
      "        Vector Action descriptions: , , , \n"
     ]
    }
   ],
   "source": [
    "env = UnityEnvironment(file_name='/Users/claudcop/code/deep-rl/DeepRL_Continuous_Control/unity/Reacher20.app', no_graphics=False)"
   ]
  },
  {
   "cell_type": "code",
   "execution_count": 4,
   "metadata": {},
   "outputs": [
    {
     "name": "stderr",
     "output_type": "stream",
     "text": [
      "Mean Cumulative Reward: 38.34: 100%|██████████| 1000/1000 [00:43<00:00, 22.93it/s]\n"
     ]
    },
    {
     "data": {
      "text/plain": [
       "array([[33.48999925, 39.56999912, 38.65999914, 38.50999914, 39.53999912,\n",
       "        35.7399992 , 39.18999912, 39.53999912, 39.61999911, 39.30999912,\n",
       "        39.50999912, 36.11999919, 39.47999912, 39.45999912, 39.41999912,\n",
       "        39.55999912, 39.53999912, 39.16999912, 31.97999929, 39.46999912]])"
      ]
     },
     "execution_count": 4,
     "metadata": {},
     "output_type": "execute_result"
    }
   ],
   "source": [
    "agent = DDPGAgent(env,\n",
    "                  network_config={\n",
    "                      'actor_hidden_sizes':[256, 128], \n",
    "                      'critic_hidden_sizes':[256, 128]},\n",
    "                      seed=4)\n",
    "agent.policy.load_state_dict(state_dict=torch.load('assets/ddpg/DDPG.pth'))\n",
    "agent.run_test_episode()"
   ]
  },
  {
   "cell_type": "code",
   "execution_count": 5,
   "metadata": {},
   "outputs": [
    {
     "name": "stderr",
     "output_type": "stream",
     "text": [
      "Mean Cumulative Reward: 34.60: 100%|██████████| 1000/1000 [00:43<00:00, 23.11it/s]\n"
     ]
    },
    {
     "data": {
      "text/plain": [
       "array([[37.69999916, 35.10999922, 33.62999925, 34.82999922, 33.61999925,\n",
       "        36.70999918, 32.20999928, 31.73999929, 31.70999929, 33.90999924,\n",
       "        34.27999923, 37.31999917, 32.11999928, 36.04999919, 34.73999922,\n",
       "        35.14999921, 34.20999924, 36.92999917, 36.41999919, 33.54999925]])"
      ]
     },
     "execution_count": 5,
     "metadata": {},
     "output_type": "execute_result"
    }
   ],
   "source": [
    "agent = DDPGAgent(env,\n",
    "                  network_config={\n",
    "                      'actor_hidden_sizes':[256, 128], \n",
    "                      'critic_hidden_sizes':[256, 128]},\n",
    "                      seed=4)\n",
    "agent.policy.load_state_dict(state_dict=torch.load('assets/ddpg/priority_DDPG.pth'))\n",
    "agent.run_test_episode()"
   ]
  },
  {
   "cell_type": "code",
   "execution_count": null,
   "metadata": {},
   "outputs": [],
   "source": []
  }
 ],
 "metadata": {
  "kernelspec": {
   "display_name": "drlnd",
   "language": "python",
   "name": "drlnd"
  },
  "language_info": {
   "codemirror_mode": {
    "name": "ipython",
    "version": 3
   },
   "file_extension": ".py",
   "mimetype": "text/x-python",
   "name": "python",
   "nbconvert_exporter": "python",
   "pygments_lexer": "ipython3",
   "version": "3.6.15"
  },
  "orig_nbformat": 4
 },
 "nbformat": 4,
 "nbformat_minor": 2
}
