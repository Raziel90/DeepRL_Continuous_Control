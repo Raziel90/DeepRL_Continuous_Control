{
 "cells": [
  {
   "cell_type": "code",
   "execution_count": 2,
   "metadata": {},
   "outputs": [],
   "source": [
    "from unityagents import UnityEnvironment\n",
    "import torch\n",
    "from torch import nn\n",
    "from src.model.ddpg import DDPGAgent\n",
    "from src.model.ppo import PPOAgent"
   ]
  },
  {
   "cell_type": "code",
   "execution_count": 3,
   "metadata": {},
   "outputs": [
    {
     "name": "stderr",
     "output_type": "stream",
     "text": [
      "INFO:unityagents:\n",
      "'Academy' started successfully!\n",
      "Unity Academy name: Academy\n",
      "        Number of Brains: 1\n",
      "        Number of External Brains : 1\n",
      "        Lesson number : 0\n",
      "        Reset Parameters :\n",
      "\t\tgoal_speed -> 1.0\n",
      "\t\tgoal_size -> 5.0\n",
      "Unity brain name: ReacherBrain\n",
      "        Number of Visual Observations (per agent): 0\n",
      "        Vector Observation space type: continuous\n",
      "        Vector Observation space size (per agent): 33\n",
      "        Number of stacked Vector Observation: 1\n",
      "        Vector Action space type: continuous\n",
      "        Vector Action space size (per agent): 4\n",
      "        Vector Action descriptions: , , , \n"
     ]
    }
   ],
   "source": [
    "env = UnityEnvironment(file_name='unity/Reacher20.app', no_graphics=False)"
   ]
  },
  {
   "cell_type": "code",
   "execution_count": 4,
   "metadata": {},
   "outputs": [
    {
     "name": "stderr",
     "output_type": "stream",
     "text": [
      "Mean Cumulative Reward: 39.40: 100%|██████████| 1000/1000 [00:39<00:00, 25.09it/s]\n"
     ]
    },
    {
     "data": {
      "text/plain": [
       "array([39.55999912, 39.53999912, 39.48999912, 39.45999912, 38.78999913,\n",
       "       39.51999912, 39.41999912, 39.00999913, 39.53999912, 39.36999912,\n",
       "       39.51999912, 39.41999912, 39.42999912, 39.54999912, 39.01999913,\n",
       "       39.19999912, 39.46999912, 39.47999912, 39.62999911, 39.56999912])"
      ]
     },
     "execution_count": 4,
     "metadata": {},
     "output_type": "execute_result"
    }
   ],
   "source": [
    "agent = PPOAgent.from_file(env, 'assets/ppo/PPO.pth')\n",
    "agent.run_test_episode(track_progress=True)"
   ]
  },
  {
   "cell_type": "code",
   "execution_count": 4,
   "metadata": {},
   "outputs": [
    {
     "name": "stderr",
     "output_type": "stream",
     "text": [
      "Mean Cumulative Reward: 38.68: 100%|██████████| 1000/1000 [00:40<00:00, 24.85it/s]\n"
     ]
    },
    {
     "data": {
      "text/plain": [
       "array([[39.47999912, 39.35999912, 39.57999912, 36.87999918, 36.75999918,\n",
       "        39.49999912, 39.57999912, 39.40999912, 35.8599992 , 39.11999913,\n",
       "        36.83999918, 39.56999912, 35.9499992 , 39.54999912, 39.54999912,\n",
       "        38.48999914, 39.52999912, 39.55999912, 39.52999912, 39.57999912]])"
      ]
     },
     "execution_count": 4,
     "metadata": {},
     "output_type": "execute_result"
    }
   ],
   "source": [
    "agent = DDPGAgent.from_file(env, 'assets/ddpg/DDPG.pth')\n",
    "agent.run_test_episode(track_progress=True)\n"
   ]
  },
  {
   "cell_type": "code",
   "execution_count": 7,
   "metadata": {},
   "outputs": [
    {
     "name": "stderr",
     "output_type": "stream",
     "text": [
      "Mean Cumulative Reward: 38.83: 100%|██████████| 1000/1000 [00:40<00:00, 24.86it/s]\n"
     ]
    },
    {
     "data": {
      "text/plain": [
       "array([[37.65999916, 38.91999913, 38.06999915, 39.47999912, 39.50999912,\n",
       "        39.53999912, 39.53999912, 39.53999912, 39.53999912, 39.48999912,\n",
       "        38.16999915, 39.19999912, 37.41999916, 37.52999916, 39.48999912,\n",
       "        39.08999913, 39.53999912, 39.51999912, 39.12999913, 36.18999919]])"
      ]
     },
     "execution_count": 7,
     "metadata": {},
     "output_type": "execute_result"
    }
   ],
   "source": [
    "agent = DDPGAgent.from_file(env, 'assets/ddpg/DDPG.pth')\n",
    "agent.run_test_episode(track_progress=True)"
   ]
  },
  {
   "cell_type": "code",
   "execution_count": null,
   "metadata": {},
   "outputs": [],
   "source": [
    "# agent = PPOAgent(env, \n",
    "#                  network_config={\n",
    "#                      'actor_hidden_sizes': [256, 128],\n",
    "#                      'critic_hidden_sizes': [256, 128],\n",
    "#                      'hidden_activation': nn.ReLU,\n",
    "#                      'output_activation': nn.Tanh}, seed=4)\n",
    "# agent.policy.set_state(torch.load('assets/ppo/PPO.pth'))\n",
    "# agent.run_test_episode(track_progress=True)\n",
    "# agent = DDPGAgent(env,\n",
    "#                   network_config={\n",
    "#                       'actor_hidden_sizes':[256, 128], \n",
    "#                       'critic_hidden_sizes':[256, 128]},\n",
    "#                       seed=4)\n",
    "# agent.policy.load_state_dict(state_dict=torch.load('assets/ddpg/priority_DDPG.pth'))\n",
    "# agent.run_test_episode(track_progress=True)"
   ]
  },
  {
   "cell_type": "code",
   "execution_count": 5,
   "metadata": {},
   "outputs": [],
   "source": []
  }
 ],
 "metadata": {
  "kernelspec": {
   "display_name": "drlnd",
   "language": "python",
   "name": "drlnd"
  },
  "language_info": {
   "codemirror_mode": {
    "name": "ipython",
    "version": 3
   },
   "file_extension": ".py",
   "mimetype": "text/x-python",
   "name": "python",
   "nbconvert_exporter": "python",
   "pygments_lexer": "ipython3",
   "version": "3.6.15"
  },
  "orig_nbformat": 4
 },
 "nbformat": 4,
 "nbformat_minor": 2
}
